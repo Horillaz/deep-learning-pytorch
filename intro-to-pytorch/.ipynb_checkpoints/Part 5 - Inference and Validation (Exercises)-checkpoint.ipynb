{
 "cells": [
  {
   "cell_type": "markdown",
   "metadata": {},
   "source": [
    "# Inference and Validation\n",
    "\n",
    "Now that you have a trained network, you can use it for making predictions. This is typically called **inference**, a term borrowed from statistics. However, neural networks have a tendency to perform *too well* on the training data and aren't able to generalize to data that hasn't been seen before. This is called **overfitting** and it impairs inference performance. To test for overfitting while training, we measure the performance on data not in the training set called the **validation** set. We avoid overfitting through regularization such as dropout while monitoring the validation performance during training. In this notebook, I'll show you how to do this in PyTorch. \n",
    "\n",
    "As usual, let's start by loading the dataset through torchvision. You'll learn more about torchvision and loading data in a later part. This time we'll be taking advantage of the test set which you can get by setting `train=False` here:\n",
    "\n",
    "```python\n",
    "testset = datasets.FashionMNIST('~/.pytorch/F_MNIST_data/', download=True, train=False, transform=transform)\n",
    "```\n",
    "\n",
    "The test set contains images just like the training set. Typically you'll see 10-20% of the original dataset held out for testing and validation with the rest being used for training."
   ]
  },
  {
   "cell_type": "code",
   "execution_count": 4,
   "metadata": {},
   "outputs": [],
   "source": [
    "import torch\n",
    "from torchvision import datasets, transforms\n",
    "\n",
    "# Define a transform to normalize the data\n",
    "transform = transforms.Compose([transforms.ToTensor(),\n",
    "                                transforms.Normalize((0.5,), (0.5,))])\n",
    "# Download and load the training data\n",
    "trainset = datasets.FashionMNIST('~/.pytorch/F_MNIST_data/', download=True, train=True, transform=transform)\n",
    "trainloader = torch.utils.data.DataLoader(trainset, batch_size=64, shuffle=True)\n",
    "\n",
    "# Download and load the test data\n",
    "testset = datasets.FashionMNIST('~/.pytorch/F_MNIST_data/', download=True, train=False, transform=transform)\n",
    "testloader = torch.utils.data.DataLoader(testset, batch_size=64, shuffle=True)"
   ]
  },
  {
   "cell_type": "markdown",
   "metadata": {},
   "source": [
    "Here I'll create a model like normal, using the same one from my solution for part 4."
   ]
  },
  {
   "cell_type": "code",
   "execution_count": 5,
   "metadata": {},
   "outputs": [],
   "source": [
    "from torch import nn, optim\n",
    "import torch.nn.functional as F\n",
    "\n",
    "class Classifier(nn.Module):\n",
    "    def __init__(self):\n",
    "        super().__init__()\n",
    "        self.fc1 = nn.Linear(784, 256)\n",
    "        self.fc2 = nn.Linear(256, 128)\n",
    "        self.fc3 = nn.Linear(128, 64)\n",
    "        self.fc4 = nn.Linear(64, 10)\n",
    "        \n",
    "    def forward(self, x):\n",
    "        # make sure input tensor is flattened\n",
    "        x = x.view(x.shape[0], -1)\n",
    "        \n",
    "        x = F.relu(self.fc1(x))\n",
    "        x = F.relu(self.fc2(x))\n",
    "        x = F.relu(self.fc3(x))\n",
    "        x = F.log_softmax(self.fc4(x), dim=1)\n",
    "        \n",
    "        return x"
   ]
  },
  {
   "cell_type": "markdown",
   "metadata": {},
   "source": [
    "The goal of validation is to measure the model's performance on data that isn't part of the training set. Performance here is up to the developer to define though. Typically this is just accuracy, the percentage of classes the network predicted correctly. Other options are [precision and recall](https://en.wikipedia.org/wiki/Precision_and_recall#Definition_(classification_context)) and top-5 error rate. We'll focus on accuracy here. First I'll do a forward pass with one batch from the test set."
   ]
  },
  {
   "cell_type": "code",
   "execution_count": 6,
   "metadata": {},
   "outputs": [
    {
     "name": "stdout",
     "output_type": "stream",
     "text": [
      "torch.Size([64, 10])\n"
     ]
    }
   ],
   "source": [
    "model = Classifier()\n",
    "\n",
    "images, labels = next(iter(testloader))\n",
    "# Get the class probabilities\n",
    "ps = torch.exp(model(images))\n",
    "# Make sure the shape is appropriate, we should get 10 class probabilities for 64 examples\n",
    "print(ps.shape)"
   ]
  },
  {
   "cell_type": "markdown",
   "metadata": {},
   "source": [
    "With the probabilities, we can get the most likely class using the `ps.topk` method. This returns the $k$ highest values. Since we just want the most likely class, we can use `ps.topk(1)`. This returns a tuple of the top-$k$ values and the top-$k$ indices. If the highest value is the fifth element, we'll get back 4 as the index."
   ]
  },
  {
   "cell_type": "code",
   "execution_count": 7,
   "metadata": {},
   "outputs": [
    {
     "name": "stdout",
     "output_type": "stream",
     "text": [
      "tensor([[1],\n",
      "        [1],\n",
      "        [7],\n",
      "        [1],\n",
      "        [1],\n",
      "        [1],\n",
      "        [1],\n",
      "        [7],\n",
      "        [1],\n",
      "        [1]])\n"
     ]
    }
   ],
   "source": [
    "top_p, top_class = ps.topk(1, dim=1)\n",
    "# Look at the most likely classes for the first 10 examples\n",
    "print(top_class[:10,:])"
   ]
  },
  {
   "cell_type": "markdown",
   "metadata": {},
   "source": [
    "Now we can check if the predicted classes match the labels. This is simple to do by equating `top_class` and `labels`, but we have to be careful of the shapes. Here `top_class` is a 2D tensor with shape `(64, 1)` while `labels` is 1D with shape `(64)`. To get the equality to work out the way we want, `top_class` and `labels` must have the same shape.\n",
    "\n",
    "If we do\n",
    "\n",
    "```python\n",
    "equals = top_class == labels\n",
    "```\n",
    "\n",
    "`equals` will have shape `(64, 64)`, try it yourself. What it's doing is comparing the one element in each row of `top_class` with each element in `labels` which returns 64 True/False boolean values for each row."
   ]
  },
  {
   "cell_type": "code",
   "execution_count": 11,
   "metadata": {},
   "outputs": [
    {
     "data": {
      "text/plain": [
       "torch.Size([64, 1])"
      ]
     },
     "execution_count": 11,
     "metadata": {},
     "output_type": "execute_result"
    }
   ],
   "source": [
    "equals = top_class == labels.view(*top_class.shape)\n",
    "equals.shape"
   ]
  },
  {
   "cell_type": "markdown",
   "metadata": {},
   "source": [
    "Now we need to calculate the percentage of correct predictions. `equals` has binary values, either 0 or 1. This means that if we just sum up all the values and divide by the number of values, we get the percentage of correct predictions. This is the same operation as taking the mean, so we can get the accuracy with a call to `torch.mean`. If only it was that simple. If you try `torch.mean(equals)`, you'll get an error\n",
    "\n",
    "```\n",
    "RuntimeError: mean is not implemented for type torch.ByteTensor\n",
    "```\n",
    "\n",
    "This happens because `equals` has type `torch.ByteTensor` but `torch.mean` isn't implemented for tensors with that type. So we'll need to convert `equals` to a float tensor. Note that when we take `torch.mean` it returns a scalar tensor, to get the actual value as a float we'll need to do `accuracy.item()`."
   ]
  },
  {
   "cell_type": "code",
   "execution_count": 7,
   "metadata": {},
   "outputs": [
    {
     "name": "stdout",
     "output_type": "stream",
     "text": [
      "Accuracy: 7.8125%\n"
     ]
    }
   ],
   "source": [
    "accuracy = torch.mean(equals.type(torch.FloatTensor))\n",
    "print(f'Accuracy: {accuracy.item()*100}%')"
   ]
  },
  {
   "cell_type": "markdown",
   "metadata": {},
   "source": [
    "The network is untrained so it's making random guesses and we should see an accuracy around 10%. Now let's train our network and include our validation pass so we can measure how well the network is performing on the test set. Since we're not updating our parameters in the validation pass, we can speed up our code by turning off gradients using `torch.no_grad()`:\n",
    "\n",
    "```python\n",
    "# turn off gradients\n",
    "with torch.no_grad():\n",
    "    # validation pass here\n",
    "    for images, labels in testloader:\n",
    "        ...\n",
    "```\n",
    "\n",
    ">**Exercise:** Implement the validation loop below and print out the total accuracy after the loop. You can largely copy and paste the code from above, but I suggest typing it in because writing it out yourself is essential for building the skill. In general you'll always learn more by typing it rather than copy-pasting. You should be able to get an accuracy above 80%."
   ]
  },
  {
   "cell_type": "code",
   "execution_count": 17,
   "metadata": {},
   "outputs": [
    {
     "name": "stdout",
     "output_type": "stream",
     "text": [
      "Accuracy: 84.31528806686401%\n",
      "Training loss: 51.868208755117486%\n",
      "Validation loss: 45.46171569824219%\n",
      "Accuracy: 85.28065085411072%\n",
      "Training loss: 39.59542725926269%\n",
      "Validation loss: 39.87202453613281%\n",
      "Accuracy: 85.80812215805054%\n",
      "Training loss: 35.54691047604277%\n",
      "Validation loss: 39.591304779052734%\n",
      "Accuracy: 86.25597357749939%\n",
      "Training loss: 33.07868700657191%\n",
      "Validation loss: 37.97775650024414%\n",
      "Accuracy: 86.97253465652466%\n",
      "Training loss: 31.465376072378554%\n",
      "Validation loss: 36.77236557006836%\n",
      "Accuracy: 86.44506335258484%\n",
      "Training loss: 30.063794975055814%\n",
      "Validation loss: 36.76655960083008%\n",
      "Accuracy: 86.14649772644043%\n",
      "Training loss: 29.126704011612865%\n",
      "Validation loss: 41.02145767211914%\n",
      "Accuracy: 87.09195852279663%\n",
      "Training loss: 28.251752179505218%\n",
      "Validation loss: 36.958003997802734%\n",
      "Accuracy: 86.54458522796631%\n",
      "Training loss: 27.511301580300206%\n",
      "Validation loss: 38.71351623535156%\n",
      "Accuracy: 87.44028806686401%\n",
      "Training loss: 26.896297825234278%\n",
      "Validation loss: 36.89860153198242%\n"
     ]
    }
   ],
   "source": [
    "model = Classifier()\n",
    "criterion = nn.NLLLoss()\n",
    "optimizer = optim.Adam(model.parameters(), lr=0.003)\n",
    "\n",
    "epochs = 10\n",
    "steps = 0\n",
    "\n",
    "train_losses, test_losses = [], []\n",
    "for e in range(epochs):\n",
    "    running_loss = 0\n",
    "    for images, labels in trainloader:\n",
    "        \n",
    "        optimizer.zero_grad()\n",
    "        \n",
    "        log_ps = model(images)\n",
    "        loss = criterion(log_ps, labels)\n",
    "        loss.backward()\n",
    "        optimizer.step()\n",
    "        \n",
    "        running_loss += loss.item()\n",
    "        \n",
    "    else:\n",
    "        ## TODO: Implement the validation pass and print out the validation accuracy\n",
    "        accuracy = 0\n",
    "        valid_loss = 0\n",
    "        with torch.no_grad():\n",
    "            #running_equals = torch.tensor([])\n",
    "            for images, labels in testloader:\n",
    "                ps = torch.exp(model(images)) \n",
    "                top_p, top_class = ps.topk(1, dim=1)\n",
    "                equals = (top_class == labels.view(*top_class.shape)).type(torch.FloatTensor)    \n",
    "                #running_equals = torch.cat((running_equals, equals), 0)\n",
    "                #accuracy = torch.mean(running_equals)\n",
    "                accuracy += torch.mean(equals)\n",
    "                valid_loss += criterion(model(images), labels)\n",
    "                \n",
    "        accuracy = accuracy / len(testloader) \n",
    "        training_loss = running_loss / len(trainloader)\n",
    "        validation_loss = valid_loss / len(testloader)\n",
    "        print(f'Accuracy: {accuracy.item()*100}%')\n",
    "        print(f'Training loss: {training_loss*100}%')\n",
    "        print(f'Validation loss: {validation_loss*100}%')\n",
    "        "
   ]
  },
  {
   "cell_type": "markdown",
   "metadata": {},
   "source": [
    "## Overfitting\n",
    "\n",
    "If we look at the training and validation losses as we train the network, we can see a phenomenon known as overfitting.\n",
    "\n",
    "<img src='assets/overfitting.png' width=450px>\n",
    "\n",
    "The network learns the training set better and better, resulting in lower training losses. However, it starts having problems generalizing to data outside the training set leading to the validation loss increasing. The ultimate goal of any deep learning model is to make predictions on new data, so we should strive to get the lowest validation loss possible. One option is to use the version of the model with the lowest validation loss, here the one around 8-10 training epochs. This strategy is called *early-stopping*. In practice, you'd save the model frequently as you're training then later choose the model with the lowest validation loss.\n",
    "\n",
    "The most common method to reduce overfitting (outside of early-stopping) is *dropout*, where we randomly drop input units. This forces the network to share information between weights, increasing it's ability to generalize to new data. Adding dropout in PyTorch is straightforward using the [`nn.Dropout`](https://pytorch.org/docs/stable/nn.html#torch.nn.Dropout) module.\n",
    "\n",
    "```python\n",
    "class Classifier(nn.Module):\n",
    "    def __init__(self):\n",
    "        super().__init__()\n",
    "        self.fc1 = nn.Linear(784, 256)\n",
    "        self.fc2 = nn.Linear(256, 128)\n",
    "        self.fc3 = nn.Linear(128, 64)\n",
    "        self.fc4 = nn.Linear(64, 10)\n",
    "        \n",
    "        # Dropout module with 0.2 drop probability\n",
    "        self.dropout = nn.Dropout(p=0.2)\n",
    "        \n",
    "    def forward(self, x):\n",
    "        # make sure input tensor is flattened\n",
    "        x = x.view(x.shape[0], -1)\n",
    "        \n",
    "        # Now with dropout\n",
    "        x = self.dropout(F.relu(self.fc1(x)))\n",
    "        x = self.dropout(F.relu(self.fc2(x)))\n",
    "        x = self.dropout(F.relu(self.fc3(x)))\n",
    "        \n",
    "        # output so no dropout here\n",
    "        x = F.log_softmax(self.fc4(x), dim=1)\n",
    "        \n",
    "        return x\n",
    "```\n",
    "\n",
    "During training we want to use dropout to prevent overfitting, but during inference we want to use the entire network. So, we need to turn off dropout during validation, testing, and whenever we're using the network to make predictions. To do this, you use `model.eval()`. This sets the model to evaluation mode where the dropout probability is 0. You can turn dropout back on by setting the model to train mode with `model.train()`. In general, the pattern for the validation loop will look like this, where you turn off gradients, set the model to evaluation mode, calculate the validation loss and metric, then set the model back to train mode.\n",
    "\n",
    "```python\n",
    "# turn off gradients\n",
    "with torch.no_grad():\n",
    "    \n",
    "    # set model to evaluation mode\n",
    "    model.eval()\n",
    "    \n",
    "    # validation pass here\n",
    "    for images, labels in testloader:\n",
    "        ...\n",
    "\n",
    "# set model back to train mode\n",
    "model.train()\n",
    "```"
   ]
  },
  {
   "cell_type": "markdown",
   "metadata": {},
   "source": [
    "> **Exercise:** Add dropout to your model and train it on Fashion-MNIST again. See if you can get a lower validation loss or higher accuracy."
   ]
  },
  {
   "cell_type": "code",
   "execution_count": 19,
   "metadata": {},
   "outputs": [],
   "source": [
    "## TODO: Define your model with dropout added\n",
    "from torch import nn, optim\n",
    "\n",
    "model = nn.Sequential(\n",
    "            nn.Linear(784, 256),\n",
    "            nn.ReLU(),\n",
    "            nn.Dropout(p=0.2),\n",
    "            nn.Linear(256, 128),\n",
    "            nn.ReLU(),\n",
    "            nn.Dropout(p=0.2),\n",
    "            nn.Linear(128, 64),\n",
    "            nn.ReLU(),\n",
    "            nn.Dropout(p=0.2),\n",
    "            nn.Linear(64, 10),\n",
    "            nn.LogSoftmax(dim=1),\n",
    ")"
   ]
  },
  {
   "cell_type": "code",
   "execution_count": 22,
   "metadata": {},
   "outputs": [
    {
     "name": "stdout",
     "output_type": "stream",
     "text": [
      "epoch 1 training loss: 0.36403286080561215\n",
      "epoch 1 validation loss: 0.37038755416870117\n",
      "epoch 1 accuracy: 0.8708200454711914\n",
      "epoch 2 training loss: 0.35553342272350785\n",
      "epoch 2 validation loss: 0.37873438000679016\n",
      "epoch 2 accuracy: 0.8711186051368713\n",
      "epoch 3 training loss: 0.36084407301091437\n",
      "epoch 3 validation loss: 0.388418585062027\n",
      "epoch 3 accuracy: 0.8729100227355957\n",
      "epoch 4 training loss: 0.3575323016118647\n",
      "epoch 4 validation loss: 0.4038650691509247\n",
      "epoch 4 accuracy: 0.8627587556838989\n",
      "epoch 5 training loss: 0.34116269885572287\n",
      "epoch 5 validation loss: 0.3692888021469116\n",
      "epoch 5 accuracy: 0.8694267272949219\n",
      "epoch 6 training loss: 0.3556021331374579\n",
      "epoch 6 validation loss: 0.387228786945343\n",
      "epoch 6 accuracy: 0.8695262670516968\n",
      "epoch 7 training loss: 0.3458598700524774\n",
      "epoch 7 validation loss: 0.38389986753463745\n",
      "epoch 7 accuracy: 0.8652468323707581\n",
      "epoch 8 training loss: 0.34446355434400694\n",
      "epoch 8 validation loss: 0.387229323387146\n",
      "epoch 8 accuracy: 0.8722133636474609\n",
      "epoch 9 training loss: 0.35184121663286994\n",
      "epoch 9 validation loss: 0.3692622482776642\n",
      "epoch 9 accuracy: 0.8768908977508545\n",
      "epoch 10 training loss: 0.34205725759680844\n",
      "epoch 10 validation loss: 0.38284066319465637\n",
      "epoch 10 accuracy: 0.8713176846504211\n",
      "epoch 11 training loss: 0.34553706273436546\n",
      "epoch 11 validation loss: 0.3909708559513092\n",
      "epoch 11 accuracy: 0.8710191249847412\n",
      "epoch 12 training loss: 0.33836485281872597\n",
      "epoch 12 validation loss: 0.3847862184047699\n",
      "epoch 12 accuracy: 0.8747014403343201\n",
      "epoch 13 training loss: 0.33778912466027333\n",
      "epoch 13 validation loss: 0.37615758180618286\n",
      "epoch 13 accuracy: 0.8753980994224548\n",
      "epoch 14 training loss: 0.34364133422721677\n",
      "epoch 14 validation loss: 0.3756842613220215\n",
      "epoch 14 accuracy: 0.8745023608207703\n",
      "epoch 15 training loss: 0.3359163063071938\n",
      "epoch 15 validation loss: 0.38632720708847046\n",
      "epoch 15 accuracy: 0.8701233863830566\n",
      "epoch 16 training loss: 0.33513865820857\n",
      "epoch 16 validation loss: 0.3710935413837433\n",
      "epoch 16 accuracy: 0.8760947585105896\n",
      "epoch 17 training loss: 0.3377566075305949\n",
      "epoch 17 validation loss: 0.38197416067123413\n",
      "epoch 17 accuracy: 0.8705214858055115\n",
      "epoch 18 training loss: 0.3346957104451367\n",
      "epoch 18 validation loss: 0.410494327545166\n",
      "epoch 18 accuracy: 0.8706210255622864\n",
      "epoch 19 training loss: 0.33105352160328233\n",
      "epoch 19 validation loss: 0.38582366704940796\n",
      "epoch 19 accuracy: 0.8754976391792297\n",
      "epoch 20 training loss: 0.3332416742627046\n",
      "epoch 20 validation loss: 0.4363058805465698\n",
      "epoch 20 accuracy: 0.865744411945343\n",
      "epoch 21 training loss: 0.33456768840551376\n",
      "epoch 21 validation loss: 0.3599199056625366\n",
      "epoch 21 accuracy: 0.8772889971733093\n",
      "epoch 22 training loss: 0.3268151546417396\n",
      "epoch 22 validation loss: 0.39576607942581177\n",
      "epoch 22 accuracy: 0.8650477528572083\n",
      "epoch 23 training loss: 0.3307964100258183\n",
      "epoch 23 validation loss: 0.38370174169540405\n",
      "epoch 23 accuracy: 0.8662420511245728\n",
      "epoch 24 training loss: 0.3310101063115828\n",
      "epoch 24 validation loss: 0.37030652165412903\n",
      "epoch 24 accuracy: 0.8749004602432251\n",
      "epoch 25 training loss: 0.32848987328821916\n",
      "epoch 25 validation loss: 0.38729047775268555\n",
      "epoch 25 accuracy: 0.8696258068084717\n",
      "epoch 26 training loss: 0.3285997301133584\n",
      "epoch 26 validation loss: 0.38426530361175537\n",
      "epoch 26 accuracy: 0.878085196018219\n",
      "epoch 27 training loss: 0.3252427124185984\n",
      "epoch 27 validation loss: 0.4031251072883606\n",
      "epoch 27 accuracy: 0.8710191249847412\n",
      "epoch 28 training loss: 0.3254237746410787\n",
      "epoch 28 validation loss: 0.3813270628452301\n",
      "epoch 28 accuracy: 0.8744028806686401\n",
      "epoch 29 training loss: 0.3244026750087865\n",
      "epoch 29 validation loss: 0.3926818370819092\n",
      "epoch 29 accuracy: 0.8707205653190613\n",
      "epoch 30 training loss: 0.32733392343719375\n",
      "epoch 30 validation loss: 0.3918481171131134\n",
      "epoch 30 accuracy: 0.8740047812461853\n"
     ]
    }
   ],
   "source": [
    "## TODO: Train your model with dropout, and monitor the training progress with the validation loss and accuracy\n",
    "\n",
    "criterion = nn.NLLLoss()\n",
    "#optimizer = optim.SGD(params = model.parameters())\n",
    "optimizer = optim.Adam(model.parameters(), lr=0.003)\n",
    "\n",
    "training_losses, validation_losses = [], []\n",
    "\n",
    "epochs = 30\n",
    "for e in range(epochs):\n",
    "    training_loss = 0\n",
    "    \n",
    "    for images, labels in trainloader:\n",
    "        model.train() \n",
    "        optimizer.zero_grad()\n",
    "        \n",
    "        images = images.view(images.shape[0], -1)\n",
    "        output = model(images)\n",
    "        loss = criterion(output, labels)\n",
    "        loss.backward()\n",
    "        optimizer.step()\n",
    "        \n",
    "        training_loss += loss.item()\n",
    "\n",
    "    else:\n",
    "        accuracy = 0\n",
    "        validation_loss = 0\n",
    "        with torch.no_grad():\n",
    "            model.eval()\n",
    "            for images, labels in testloader:\n",
    "                images = images.view(images.shape[0], -1)\n",
    "                ps = torch.exp(model(images)) \n",
    "                top_p, top_class = ps.topk(1, dim=1)\n",
    "                equals = (top_class == labels.view(*top_class.shape)).type(torch.FloatTensor)    \n",
    "                accuracy += torch.mean(equals)\n",
    "                validation_loss += criterion(model(images), labels)\n",
    "                \n",
    "        accuracy = accuracy / len(testloader) \n",
    "        training_loss = training_loss / len(trainloader)\n",
    "        validation_loss = validation_loss / len(testloader)\n",
    "        \n",
    "        training_losses.append(training_loss)\n",
    "        validation_losses.append(validation_loss)\n",
    "        print(\"epoch {} training loss: {}\".format(e+1, training_loss))\n",
    "        print(\"epoch {} validation loss: {}\".format(e+1, validation_loss))\n",
    "        print(\"epoch {} accuracy: {}\".format(e+1, accuracy))\n",
    "        "
   ]
  },
  {
   "cell_type": "markdown",
   "metadata": {},
   "source": [
    "## Inference\n",
    "\n",
    "Now that the model is trained, we can use it for inference. We've done this before, but now we need to remember to set the model in inference mode with `model.eval()`. You'll also want to turn off autograd with the `torch.no_grad()` context."
   ]
  },
  {
   "cell_type": "code",
   "execution_count": 24,
   "metadata": {},
   "outputs": [
    {
     "data": {
      "image/png": "[encoded data removed]",
      "text/plain": [
       "<Figure size 432x648 with 2 Axes>"
      ]
     },
     "metadata": {
      "needs_background": "light"
     },
     "output_type": "display_data"
    }
   ],
   "source": [
    "# Import helper module (should be in the repo)\n",
    "import helper\n",
    "\n",
    "# Test out your network!\n",
    "\n",
    "model.eval()\n",
    "\n",
    "dataiter = iter(testloader)\n",
    "images, labels = dataiter.next()\n",
    "img = images[0]\n",
    "# Convert 2D image to 1D vector\n",
    "img = img.view(1, 784)\n",
    "\n",
    "# Calculate the class probabilities (softmax) for img\n",
    "with torch.no_grad():\n",
    "    output = model.forward(img)\n",
    "\n",
    "ps = torch.exp(output)\n",
    "\n",
    "# Plot the image and probabilities\n",
    "helper.view_classify(img.view(1, 28, 28), ps, version='Fashion')"
   ]
  },
  {
   "cell_type": "markdown",
   "metadata": {},
   "source": [
    "## Next Up!\n",
    "\n",
    "In the next part, I'll show you how to save your trained models. In general, you won't want to train a model everytime you need it. Instead, you'll train once, save it, then load the model when you want to train more or use if for inference."
   ]
  }
 ],
 "metadata": {
  "kernelspec": {
   "display_name": "Python [conda env:pytorch_udacity] *",
   "language": "python",
   "name": "conda-env-pytorch_udacity-py"
  },
  "language_info": {
   "codemirror_mode": {
    "name": "ipython",
    "version": 3
   },
   "file_extension": ".py",
   "mimetype": "text/x-python",
   "name": "python",
   "nbconvert_exporter": "python",
   "pygments_lexer": "ipython3",
   "version": "3.7.4"
  }
 },
 "nbformat": 4,
 "nbformat_minor": 2
}
